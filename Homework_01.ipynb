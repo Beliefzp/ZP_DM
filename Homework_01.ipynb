{
 "cells": [
  {
   "cell_type": "markdown",
   "id": "dfa3e454",
   "metadata": {},
   "source": [
    "# 数据挖掘第一次互评作业\n",
    "## 姓名：张鹏 学号：3120241388"
   ]
  },
  {
   "cell_type": "markdown",
   "id": "293642fa",
   "metadata": {},
   "source": [
    "### 1 准备工作及查看数据集"
   ]
  },
  {
   "cell_type": "markdown",
   "id": "f49573a5",
   "metadata": {},
   "source": [
    "#### 1.1 导入必要的包"
   ]
  },
  {
   "cell_type": "code",
   "execution_count": 1,
   "id": "b89aff49",
   "metadata": {
    "execution": {
     "iopub.execute_input": "2025-04-15T09:27:21.742107Z",
     "iopub.status.busy": "2025-04-15T09:27:21.741659Z",
     "iopub.status.idle": "2025-04-15T09:27:23.802517Z",
     "shell.execute_reply": "2025-04-15T09:27:23.801712Z"
    }
   },
   "outputs": [],
   "source": [
    "# 导入必要的包\n",
    "import pandas as pd\n",
    "import glob\n",
    "import os\n",
    "import matplotlib.pyplot as plt\n",
    "import scipy.stats as stats\n",
    "from matplotlib import font_manager, rcParams\n",
    "import matplotlib\n",
    "import seaborn as sns\n",
    "import json"
   ]
  },
  {
   "cell_type": "markdown",
   "id": "e1dbe90c",
   "metadata": {},
   "source": [
    "#### 1.2 屏蔽不必要的Warning"
   ]
  },
  {
   "cell_type": "code",
   "execution_count": 2,
   "id": "b81337d4",
   "metadata": {
    "execution": {
     "iopub.execute_input": "2025-04-15T09:27:23.806277Z",
     "iopub.status.busy": "2025-04-15T09:27:23.805771Z",
     "iopub.status.idle": "2025-04-15T09:27:23.809864Z",
     "shell.execute_reply": "2025-04-15T09:27:23.809258Z"
    }
   },
   "outputs": [],
   "source": [
    "# 屏蔽一些不必要的Warning\n",
    "import warnings\n",
    "warnings.filterwarnings(\"ignore\", category=UserWarning)\n",
    "matplotlib.set_loglevel(\"error\")"
   ]
  },
  {
   "cell_type": "markdown",
   "id": "55b624cb",
   "metadata": {},
   "source": [
    "所以服务器无法安装中文字体，所以这里屏蔽的主要是由于显示中文字体所出现的Warning"
   ]
  },
  {
   "cell_type": "markdown",
   "id": "64beafb8",
   "metadata": {},
   "source": [
    "#### 1.3 配置中文字体"
   ]
  },
  {
   "cell_type": "code",
   "execution_count": 3,
   "id": "c77268e6",
   "metadata": {
    "execution": {
     "iopub.execute_input": "2025-04-15T09:27:23.812953Z",
     "iopub.status.busy": "2025-04-15T09:27:23.812687Z",
     "iopub.status.idle": "2025-04-15T09:27:23.821163Z",
     "shell.execute_reply": "2025-04-15T09:27:23.820153Z"
    }
   },
   "outputs": [
    {
     "name": "stdout",
     "output_type": "stream",
     "text": [
      "✔️ 成功加载字体：SimHei\n"
     ]
    }
   ],
   "source": [
    "# 由于数据集中有中文字体,而所使用的服务器上面没有配置中文字体,所以这里设置一些中文字体的显示问题\n",
    "font_path = '/home/pengzhang/anaconda3/envs/DDPM-New/lib/python3.11/site-packages/matplotlib/mpl-data/fonts/ttf/simhei.ttf'\n",
    "my_font = font_manager.FontProperties(fname=font_path)\n",
    "font_name = my_font.get_name()\n",
    "print(f\"✔️ 成功加载字体：{font_name}\")\n",
    "rcParams['font.family'] = font_name"
   ]
  },
  {
   "cell_type": "markdown",
   "id": "05b23d6c",
   "metadata": {},
   "source": [
    "#### 1.4 查看数据集并对数据集进行了解"
   ]
  },
  {
   "cell_type": "code",
   "execution_count": null,
   "id": "e30f9f1c",
   "metadata": {
    "execution": {
     "iopub.execute_input": "2025-04-15T09:27:23.825236Z",
     "iopub.status.busy": "2025-04-15T09:27:23.824611Z",
     "iopub.status.idle": "2025-04-15T09:27:23.830744Z",
     "shell.execute_reply": "2025-04-15T09:27:23.829991Z"
    }
   },
   "outputs": [],
   "source": [
    "# 查看当前文件夹下有哪些数据集以及数据集所处的路径\n",
    "# 获取data文件夹中所有parquet文件的路径\n",
    "parquet_files = glob.glob(os.path.join(\"/data7/pengzhang/Class/Data_Mining/Homework01_dataset/10G_data_new\", \"*.parquet\"))\n",
    "parquet_files = glob.glob(os.path.join(\"/data7/pengzhang/Class/Data_Mining/Homework01_dataset/30G_data_new\", \"*.parquet\"))\n",
    "print(parquet_files)"
   ]
  },
  {
   "cell_type": "code",
   "execution_count": null,
   "id": "2bc9bf4d",
   "metadata": {
    "execution": {
     "iopub.execute_input": "2025-04-15T09:27:23.833979Z",
     "iopub.status.busy": "2025-04-15T09:27:23.833611Z",
     "iopub.status.idle": "2025-04-15T09:31:54.109292Z",
     "shell.execute_reply": "2025-04-15T09:31:54.107971Z"
    }
   },
   "outputs": [],
   "source": [
    "import time\n",
    "start_time = time.time()\n",
    "\n",
    "# # 读取并合并所有parquet文件\n",
    "df_list = [pd.read_parquet(file) for file in parquet_files]\n",
    "df = pd.concat(df_list, ignore_index=True)\n",
    "\n",
    "# df = pd.read_parquet('/data7/pengzhang/Class/Data_Mining/Homework01_dataset/10G_data_new/part-00000.parquet')\n",
    "\n",
    "# 显示合并后的DataFrame信息\n",
    "print(df.head())\n",
    "\n",
    "end_time = time.time()\n",
    "print(f\"读取10G数据所用时间: {end_time - start_time:.2f} 秒\")\n",
    "\n",
    "\n",
    "# 数据集的含义\n",
    "# 列名------------------含义\n",
    "# id                用户的唯一编号\n",
    "# last_login        记录创建或最后更新的时间\n",
    "# user_name         系统中的用户名\n",
    "# fullname          用户的中文姓名\n",
    "# email             用户的电子邮箱地址\n",
    "# age               用户的年龄\n",
    "# income            用户的年收入\n",
    "# gender            性别\n",
    "# country           国家\n",
    "# address           中文地址\n",
    "# purchase_history  购买历史\n",
    "# is_active         是否为活跃用户\n",
    "# registration_date 注册日期\n",
    "# phone_number      用户的联系电话\n",
    "# login_history     用户登录信息"
   ]
  },
  {
   "cell_type": "code",
   "execution_count": null,
   "id": "dd8c1654",
   "metadata": {
    "execution": {
     "iopub.execute_input": "2025-04-15T09:31:54.113753Z",
     "iopub.status.busy": "2025-04-15T09:31:54.113235Z",
     "iopub.status.idle": "2025-04-15T09:31:54.122616Z",
     "shell.execute_reply": "2025-04-15T09:31:54.121348Z"
    }
   },
   "outputs": [],
   "source": [
    "print(df.dtypes)  # 每列数据的数据类型"
   ]
  },
  {
   "cell_type": "code",
   "execution_count": null,
   "id": "1d43533f",
   "metadata": {
    "execution": {
     "iopub.execute_input": "2025-04-15T09:31:54.127029Z",
     "iopub.status.busy": "2025-04-15T09:31:54.125999Z",
     "iopub.status.idle": "2025-04-15T09:31:54.132250Z",
     "shell.execute_reply": "2025-04-15T09:31:54.131195Z"
    }
   },
   "outputs": [],
   "source": [
    "print(df.shape)   # 数据集的大小"
   ]
  },
  {
   "cell_type": "markdown",
   "id": "98f334b3",
   "metadata": {},
   "source": [
    "### 2 数据预处理"
   ]
  },
  {
   "cell_type": "code",
   "execution_count": 8,
   "id": "3628fb8a",
   "metadata": {
    "execution": {
     "iopub.execute_input": "2025-04-15T09:31:54.135088Z",
     "iopub.status.busy": "2025-04-15T09:31:54.134619Z",
     "iopub.status.idle": "2025-04-15T09:31:54.139405Z",
     "shell.execute_reply": "2025-04-15T09:31:54.138459Z"
    }
   },
   "outputs": [],
   "source": [
    "# 记录一下数据预处理之前数据集的大小\n",
    "before_preprocessing_dataset_size = df.shape[0]"
   ]
  },
  {
   "cell_type": "markdown",
   "id": "b14edcef",
   "metadata": {},
   "source": [
    "#### 2.1 数据类型转换"
   ]
  },
  {
   "cell_type": "code",
   "execution_count": 9,
   "id": "32e2bb09",
   "metadata": {
    "execution": {
     "iopub.execute_input": "2025-04-15T09:31:54.142398Z",
     "iopub.status.busy": "2025-04-15T09:31:54.141857Z",
     "iopub.status.idle": "2025-04-15T09:32:51.116542Z",
     "shell.execute_reply": "2025-04-15T09:32:51.115614Z"
    }
   },
   "outputs": [],
   "source": [
    "from datetime import datetime\n",
    "# 转换日期类型\n",
    "df['last_login'] = pd.to_datetime(df['last_login'])\n",
    "df['registration_date'] = pd.to_datetime(df['registration_date'])"
   ]
  },
  {
   "cell_type": "markdown",
   "id": "6a1ef4f6",
   "metadata": {},
   "source": [
    "将原始时间进行转换，方便后续处理。"
   ]
  },
  {
   "cell_type": "markdown",
   "id": "d39edfab",
   "metadata": {},
   "source": [
    "#### 2.2 数据异常情况分析"
   ]
  },
  {
   "cell_type": "code",
   "execution_count": null,
   "id": "dd2e99e3",
   "metadata": {
    "execution": {
     "iopub.execute_input": "2025-04-15T09:32:51.120820Z",
     "iopub.status.busy": "2025-04-15T09:32:51.120450Z",
     "iopub.status.idle": "2025-04-15T09:33:26.479619Z",
     "shell.execute_reply": "2025-04-15T09:33:26.478770Z"
    }
   },
   "outputs": [],
   "source": [
    "import time\n",
    "start_time = time.time()\n",
    "\n",
    "# 打印删除前数据的行数\n",
    "print(f\"删除前数据的行数：{df.shape[0]}\")\n",
    "# 检查每列的缺失值情况\n",
    "missing = df.isnull().sum()\n",
    "print(\"缺失值情况：\\n\", missing[missing > 0])\n",
    "# 如果存在缺失值的行，删除这些行\n",
    "if missing.any():  # 如果有任何列存在缺失值\n",
    "    df = df.dropna()\n",
    "# 输出删除后的数据大小变化\n",
    "print(f\"删除缺失值后的数据集总共有 {df.shape[0]} 行\")\n",
    "\n",
    "end_time = time.time()\n",
    "print(f\"运行时间：{end_time - start_time:.2f} 秒\")"
   ]
  },
  {
   "cell_type": "code",
   "execution_count": null,
   "id": "90318fde",
   "metadata": {
    "execution": {
     "iopub.execute_input": "2025-04-15T09:33:26.482685Z",
     "iopub.status.busy": "2025-04-15T09:33:26.482354Z",
     "iopub.status.idle": "2025-04-15T09:49:29.293780Z",
     "shell.execute_reply": "2025-04-15T09:49:29.292706Z"
    }
   },
   "outputs": [],
   "source": [
    "import time\n",
    "start_time = time.time()\n",
    "\n",
    "# 打印删除前数据的行数\n",
    "print(f\"删除前数据的行数：{df.shape[0]}\")\n",
    "# 打印重复行数\n",
    "print(\"重复行数：\", df.duplicated().sum())\n",
    "# 删除重复的行\n",
    "df = df.drop_duplicates()\n",
    "# 打印删除后数据的行数\n",
    "print(f\"删除后数据的行数：{df.shape[0]}\")\n",
    "\n",
    "end_time = time.time()\n",
    "print(f\"运行时间：{end_time - start_time:.2f} 秒\")"
   ]
  },
  {
   "cell_type": "code",
   "execution_count": null,
   "id": "b6e4bf80",
   "metadata": {
    "execution": {
     "iopub.execute_input": "2025-04-15T09:49:29.296718Z",
     "iopub.status.busy": "2025-04-15T09:49:29.296430Z",
     "iopub.status.idle": "2025-04-15T09:49:31.214129Z",
     "shell.execute_reply": "2025-04-15T09:49:31.213302Z"
    }
   },
   "outputs": [],
   "source": [
    "df['age'].describe()"
   ]
  },
  {
   "cell_type": "code",
   "execution_count": null,
   "id": "b1cda9c7",
   "metadata": {
    "execution": {
     "iopub.execute_input": "2025-04-15T09:49:31.216463Z",
     "iopub.status.busy": "2025-04-15T09:49:31.216178Z",
     "iopub.status.idle": "2025-04-15T09:49:33.895674Z",
     "shell.execute_reply": "2025-04-15T09:49:33.894869Z"
    }
   },
   "outputs": [],
   "source": [
    "df['income'].describe()"
   ]
  },
  {
   "cell_type": "code",
   "execution_count": null,
   "id": "9dd3dfc7",
   "metadata": {
    "execution": {
     "iopub.execute_input": "2025-04-15T09:49:33.898832Z",
     "iopub.status.busy": "2025-04-15T09:49:33.898624Z",
     "iopub.status.idle": "2025-04-15T09:51:38.711003Z",
     "shell.execute_reply": "2025-04-15T09:51:38.709592Z"
    }
   },
   "outputs": [],
   "source": [
    "import time\n",
    "start_time = time.time()\n",
    "\n",
    "# 打印删除前数据的行数\n",
    "print(f\"删除前数据的行数：{df.shape[0]}\")\n",
    "# 计算并打印存在重复的 phone_number 总数\n",
    "total_duplicate_ids = (df['phone_number'].value_counts() > 1).sum()\n",
    "print(f\"存在重复的phone_number总数:{total_duplicate_ids}\")\n",
    "# 删除 'phone_number' 列中重复的行，只保留第一次出现的\n",
    "df = df.drop_duplicates(subset='phone_number', keep='first')\n",
    "# 打印删除后数据的行数\n",
    "print(f\"删除后数据的行数：{df.shape[0]}\")\n",
    "\n",
    "end_time = time.time()\n",
    "print(f\"运行时间：{end_time - start_time:.2f} 秒\")"
   ]
  },
  {
   "cell_type": "code",
   "execution_count": null,
   "id": "0904dc50",
   "metadata": {
    "execution": {
     "iopub.execute_input": "2025-04-15T09:51:38.714463Z",
     "iopub.status.busy": "2025-04-15T09:51:38.713981Z",
     "iopub.status.idle": "2025-04-15T09:54:43.922989Z",
     "shell.execute_reply": "2025-04-15T09:54:43.921981Z"
    }
   },
   "outputs": [],
   "source": [
    "import time\n",
    "start_time = time.time()\n",
    "\n",
    "# 打印删除前数据的行数\n",
    "print(f\"删除前数据的行数：{df.shape[0]}\")\n",
    "import re\n",
    "# 需要检测的列\n",
    "columns_to_check = ['user_name', 'fullname', 'country', 'address', 'email']\n",
    "# 定义一个正则表达式：允许“中英文”字符\n",
    "# email 字段可能需要允许特殊符号，所以单独处理\n",
    "zh_en_pattern = re.compile(r'^[a-zA-Z\\u4e00-\\u9fa5]+$')\n",
    "email_pattern = re.compile(r'^[a-zA-Z0-9_.+-]+@[a-zA-Z0-9-]+\\.[a-zA-Z0-9-.]+$')\n",
    "zh_address_pattern = re.compile(r'^[a-zA-Z0-9\\u4e00-\\u9fa5\\s]*$|^Non-Chinese Address Placeholder$')\n",
    "# 循环检查每一列的合法性\n",
    "for col in columns_to_check:\n",
    "    if col == 'email':\n",
    "        mask = ~df[col].apply(lambda x: bool(email_pattern.match(str(x))))\n",
    "    elif col == 'address':\n",
    "        mask = ~df[col].apply(lambda x: bool(zh_address_pattern.match(str(x))))\n",
    "    else:\n",
    "        mask = ~df[col].apply(lambda x: bool(zh_en_pattern.match(str(x))))\n",
    "    # 将每列的检测结果存储在 df 的新列中，标记为 '_invalid'\n",
    "    df[col + '_invalid'] = mask\n",
    "# 标记任何列中含有错误的行\n",
    "any_invalid_mask = df[[col + '_invalid' for col in columns_to_check]].any(axis=1)\n",
    "# 删除含有乱码的行\n",
    "df = df[~any_invalid_mask]\n",
    "# 输出处理后的结果\n",
    "print(f\"存在乱码的行数：{any_invalid_mask.sum()}\")\n",
    "print(df[columns_to_check].head())\n",
    "# 打印删除后数据的行数\n",
    "print(f\"删除后数据的行数：{df.shape[0]}\")\n",
    "\n",
    "end_time = time.time()\n",
    "print(f\"运行时间：{end_time - start_time:.2f} 秒\")"
   ]
  },
  {
   "cell_type": "code",
   "execution_count": null,
   "id": "99c0e7df",
   "metadata": {
    "execution": {
     "iopub.execute_input": "2025-04-15T09:54:43.926188Z",
     "iopub.status.busy": "2025-04-15T09:54:43.925968Z",
     "iopub.status.idle": "2025-04-15T09:54:43.931225Z",
     "shell.execute_reply": "2025-04-15T09:54:43.930544Z"
    }
   },
   "outputs": [],
   "source": [
    "# 总结一下预处理后数据集的变化情况\n",
    "rows_before = before_preprocessing_dataset_size\n",
    "rows_after = df.shape[0]\n",
    "rows_removed = rows_before - rows_after\n",
    "# 输出优化后的信息\n",
    "print(f'预处理前数据集总共有 {rows_before} 行')\n",
    "print(f'预处理后数据集总共有 {rows_after} 行')\n",
    "print(f'数据集总共减少 {rows_removed} 行')"
   ]
  },
  {
   "cell_type": "markdown",
   "id": "2e20b737",
   "metadata": {},
   "source": [
    "### 3 数据可视化分析"
   ]
  },
  {
   "cell_type": "markdown",
   "id": "97187ab6",
   "metadata": {},
   "source": [
    "#### 3.1 人口统计分布"
   ]
  },
  {
   "cell_type": "code",
   "execution_count": null,
   "id": "ee3b2214",
   "metadata": {
    "execution": {
     "iopub.execute_input": "2025-04-15T09:54:43.934114Z",
     "iopub.status.busy": "2025-04-15T09:54:43.933841Z",
     "iopub.status.idle": "2025-04-15T09:54:45.071103Z",
     "shell.execute_reply": "2025-04-15T09:54:45.070479Z"
    }
   },
   "outputs": [],
   "source": [
    "# 年龄分布\n",
    "plt.figure(figsize=(8, 5))\n",
    "plt.hist(df['age'], bins=20, edgecolor='black', alpha=0.7)\n",
    "plt.title(\"年龄分布\", fontproperties=my_font)\n",
    "plt.xlabel(\"年龄\", fontproperties=my_font)\n",
    "plt.ylabel(\"数量\", fontproperties=my_font)\n",
    "plt.grid(True, linestyle='--', alpha=0.5)  # 可选：加网格\n",
    "plt.show()"
   ]
  },
  {
   "cell_type": "code",
   "execution_count": null,
   "id": "71a4f5b1",
   "metadata": {
    "execution": {
     "iopub.execute_input": "2025-04-15T09:54:45.074601Z",
     "iopub.status.busy": "2025-04-15T09:54:45.074207Z",
     "iopub.status.idle": "2025-04-15T09:54:50.421014Z",
     "shell.execute_reply": "2025-04-15T09:54:50.420191Z"
    }
   },
   "outputs": [],
   "source": [
    "# 性别分布\n",
    "# 由于无法展示中文字体, 所以这里将中文改为英文\n",
    "gender_mapping = {'男': 'Male', '女': 'Female', '未指定': 'Not specified', '其他': 'Others'}\n",
    "df['gender_en'] = df['gender'].map(gender_mapping)\n",
    "plt.figure(figsize=(8, 5))\n",
    "df['gender_en'].value_counts().plot.pie(autopct='%1.1f%%')\n",
    "plt.title('性别比例', fontproperties=my_font)"
   ]
  },
  {
   "cell_type": "code",
   "execution_count": null,
   "id": "01b4d2b9",
   "metadata": {
    "execution": {
     "iopub.execute_input": "2025-04-15T09:54:50.424688Z",
     "iopub.status.busy": "2025-04-15T09:54:50.424353Z",
     "iopub.status.idle": "2025-04-15T09:54:59.123278Z",
     "shell.execute_reply": "2025-04-15T09:54:59.122473Z"
    }
   },
   "outputs": [],
   "source": [
    "# 国家分布\n",
    "# 构建中文到英文的国家名称映射字典\n",
    "country_mapping = {\n",
    "    '中国': 'China',\n",
    "    '俄罗斯': 'Russia',\n",
    "    '澳大利亚': 'Australia',\n",
    "    '美国': 'United States',\n",
    "    '英国': 'United Kingdom',\n",
    "    '加拿大': 'Canada',\n",
    "    '日本': 'Japan',\n",
    "    '德国': 'Germany',\n",
    "    '法国': 'France',\n",
    "    '印度': 'India',\n",
    "    '巴西': 'Brazil'\n",
    "}\n",
    "# 创建新列存储英文国家名称（保留原始数据）\n",
    "df['country_en'] = df['country'].map(country_mapping).fillna('Other')\n",
    "\n",
    "plt.figure(figsize=(8, 5))\n",
    "df['country_en'].value_counts().head(5).plot.bar()\n",
    "plt.title('Top5国家分布', fontproperties=my_font)\n",
    "plt.tight_layout()"
   ]
  },
  {
   "cell_type": "markdown",
   "id": "c5002be3-98e6-45ad-a1ba-c0eba322b72e",
   "metadata": {},
   "source": [
    "#### 3.2 经济指标分析"
   ]
  },
  {
   "cell_type": "code",
   "execution_count": null,
   "id": "d2ecee04",
   "metadata": {
    "execution": {
     "iopub.execute_input": "2025-04-15T09:54:59.125960Z",
     "iopub.status.busy": "2025-04-15T09:54:59.125741Z",
     "iopub.status.idle": "2025-04-15T09:56:29.589796Z",
     "shell.execute_reply": "2025-04-15T09:56:29.588835Z"
    }
   },
   "outputs": [],
   "source": [
    "plt.figure(figsize=(10,5))\n",
    "gender_mapping = {'男': 'Male', '女': 'Female', '未指定': 'Not specified', '其他': 'Others'}\n",
    "df['gender_en'] = df['gender'].map(gender_mapping)\n",
    "sns.boxplot(x='gender_en', y='income', data=df)\n",
    "plt.title('性别收入分布', fontproperties=my_font)"
   ]
  },
  {
   "cell_type": "markdown",
   "id": "5ba549e5",
   "metadata": {},
   "source": [
    "#### 3.3 用户注册时间分析"
   ]
  },
  {
   "cell_type": "code",
   "execution_count": null,
   "id": "bf5cc562",
   "metadata": {
    "execution": {
     "iopub.execute_input": "2025-04-15T10:14:16.552159Z",
     "iopub.status.busy": "2025-04-15T10:14:16.551703Z",
     "iopub.status.idle": "2025-04-15T10:14:21.466601Z",
     "shell.execute_reply": "2025-04-15T10:14:21.465840Z"
    }
   },
   "outputs": [],
   "source": [
    "df['registration_date'] = pd.to_datetime(df['registration_date'])\n",
    "df['reg_year_month'] = df['registration_date'].dt.to_period('M')\n",
    "reg_count = df['reg_year_month'].value_counts().sort_index()\n",
    "reg_count.plot(kind='line', figsize=(10,5))\n",
    "plt.title('注册用户数量趋势', fontproperties=my_font)\n",
    "plt.xlabel(\"注册年月\", fontproperties=my_font)\n",
    "plt.ylabel(\"注册数量\", fontproperties=my_font)\n",
    "plt.show()"
   ]
  },
  {
   "cell_type": "markdown",
   "id": "e9f1b361",
   "metadata": {},
   "source": [
    "### 4 分析实现"
   ]
  },
  {
   "cell_type": "markdown",
   "id": "f8994a0b",
   "metadata": {},
   "source": [
    "#### 4.1 特征工程"
   ]
  },
  {
   "cell_type": "code",
   "execution_count": 23,
   "id": "9abf93ed",
   "metadata": {
    "execution": {
     "iopub.execute_input": "2025-04-15T10:14:21.470353Z",
     "iopub.status.busy": "2025-04-15T10:14:21.470099Z",
     "iopub.status.idle": "2025-04-15T10:21:38.450077Z",
     "shell.execute_reply": "2025-04-15T10:21:38.449052Z"
    }
   },
   "outputs": [],
   "source": [
    "import json\n",
    "\n",
    "# 创建一个新的列，提取 average_price\n",
    "df['avg_price'] = df['purchase_history'].apply(lambda x: json.loads(x)['avg_price'])\n",
    "df['items_count'] = df['purchase_history'].apply(lambda x: len(json.loads(x)['items']))\n",
    "\n",
    "# 计算消费总金额\n",
    "df['total_spent'] = df['avg_price'] * df['items_count']\n",
    "\n",
    "# 创建年龄分段\n",
    "bins = [18,30,45,60,100]\n",
    "labels = ['青年','中年','中老年','老年']\n",
    "df['age_group'] = pd.cut(df['age'], bins=bins, labels=labels)"
   ]
  },
  {
   "cell_type": "markdown",
   "id": "944c5680",
   "metadata": {},
   "source": [
    "#### 4.1 用户画像"
   ]
  },
  {
   "cell_type": "code",
   "execution_count": null,
   "id": "6d6d6d07",
   "metadata": {
    "execution": {
     "iopub.execute_input": "2025-04-15T10:21:38.453653Z",
     "iopub.status.busy": "2025-04-15T10:21:38.453435Z",
     "iopub.status.idle": "2025-04-15T10:21:48.139373Z",
     "shell.execute_reply": "2025-04-15T10:21:48.138597Z"
    }
   },
   "outputs": [],
   "source": [
    "import time\n",
    "start_time = time.time()\n",
    "\n",
    "# 按年龄段、性别、国家分组，计算各用户群体的平均收入和平均消费金额\n",
    "profile = df.groupby(['age_group', 'gender', 'country']).agg(\n",
    "    avg_income=('income', 'mean'),          # 计算每组的平均收入\n",
    "    avg_spent=('total_spent', 'mean')      # 计算每组的平均消费金额\n",
    ").reset_index().sort_values('avg_spent', ascending=False)  # 将分组索引转回普通列，方便后续操作\n",
    "                                                           # 按照平均消费金额降序排列，找出最“舍得花钱”的用户群体\n",
    "# 输出消费能力最强的前三类典型用户画像\n",
    "print(\"高价值用户特征：\")\n",
    "print(profile.head(3))\n",
    "\n",
    "end_time = time.time()\n",
    "print(f\"运行时间：{end_time - start_time:.2f} 秒\")"
   ]
  },
  {
   "cell_type": "markdown",
   "id": "8ec76798",
   "metadata": {},
   "source": [
    "#### 4.2 高价值用户识别"
   ]
  },
  {
   "cell_type": "code",
   "execution_count": null,
   "id": "4b06d729",
   "metadata": {
    "execution": {
     "iopub.execute_input": "2025-04-15T10:21:48.142412Z",
     "iopub.status.busy": "2025-04-15T10:21:48.142201Z",
     "iopub.status.idle": "2025-04-15T11:30:21.535913Z",
     "shell.execute_reply": "2025-04-15T11:30:21.534273Z"
    }
   },
   "outputs": [],
   "source": [
    "import time\n",
    "start_time = time.time()\n",
    "\n",
    "# 导入需要的库\n",
    "from sklearn.cluster import KMeans              # KMeans 聚类算法\n",
    "from sklearn.preprocessing import StandardScaler # 数据标准化工具\n",
    "\n",
    "# 1. 选择需要进行聚类分析的特征列：收入、总消费、信用分\n",
    "X = df[['income', 'total_spent']]\n",
    "\n",
    "# 2. 对数据进行标准化处理（标准化后，特征的均值为0，标准差为1，避免某个特征占主导地位）\n",
    "scaler = StandardScaler()\n",
    "X_scaled = scaler.fit_transform(X)  # 将数据进行标准化转换\n",
    "\n",
    "# 3. 使用 KMeans 聚类算法进行聚类，设定将数据分为 5 类（n_clusters=5）\n",
    "kmeans = KMeans(n_clusters=5)\n",
    "\n",
    "# 4. 使用 KMeans 聚类算法对标准化后的数据进行拟合，并为每个样本分配一个聚类标签\n",
    "df['cluster'] = kmeans.fit_predict(X_scaled)  # 将每个样本所属的聚类标签存入 'cluster' 列中\n",
    "\n",
    "# 5. 可视化聚类结果\n",
    "plt.figure(figsize=(8, 6))  # 设置图像的尺寸为 8x6 英寸\n",
    "\n",
    "# 使用 Seaborn 的散点图绘制聚类结果\n",
    "sns.scatterplot(\n",
    "    x='income',            # x 轴：收入\n",
    "    y='total_spent',       # y 轴：总消费\n",
    "    hue='cluster',         # 根据聚类标签显示不同颜色\n",
    "    data=df,               # 使用的数据集是 df\n",
    "    palette='viridis'      # 设置颜色调色板为 'viridis'\n",
    ")\n",
    "\n",
    "# 6. 设置图表标题并指定字体，确保中文显示正常\n",
    "plt.title('用户价值聚类分析', fontproperties=my_font)  # 标题显示为 \"用户价值聚类分析\"，并使用指定的字体\n",
    "\n",
    "end_time = time.time()\n",
    "print(f\"运行时间：{end_time - start_time:.2f} 秒\")"
   ]
  }
 ],
 "metadata": {
  "kernelspec": {
   "display_name": "Python 3 (ipykernel)",
   "language": "python",
   "name": "python3"
  },
  "language_info": {
   "codemirror_mode": {
    "name": "ipython",
    "version": 3
   },
   "file_extension": ".py",
   "mimetype": "text/x-python",
   "name": "python",
   "nbconvert_exporter": "python",
   "pygments_lexer": "ipython3",
   "version": "3.9.19"
  }
 },
 "nbformat": 4,
 "nbformat_minor": 5
}
