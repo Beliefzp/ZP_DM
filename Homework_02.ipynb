{
 "cells": [
  {
   "cell_type": "markdown",
   "id": "dfa3e454",
   "metadata": {},
   "source": [
    "# 数据挖掘第二次互评作业（10G数据）\n",
    "## 姓名：张鹏 学号：3120241388"
   ]
  },
  {
   "cell_type": "markdown",
   "id": "293642fa",
   "metadata": {},
   "source": [
    "### 1 准备工作及查看数据集"
   ]
  },
  {
   "cell_type": "markdown",
   "id": "f49573a5",
   "metadata": {},
   "source": [
    "#### 1.1 导入必要的包"
   ]
  },
  {
   "cell_type": "code",
   "execution_count": 1,
   "id": "b89aff49",
   "metadata": {
    "execution": {
     "iopub.execute_input": "2025-04-15T09:27:21.742107Z",
     "iopub.status.busy": "2025-04-15T09:27:21.741659Z",
     "iopub.status.idle": "2025-04-15T09:27:23.802517Z",
     "shell.execute_reply": "2025-04-15T09:27:23.801712Z"
    }
   },
   "outputs": [],
   "source": [
    "# 导入必要的包\n",
    "import pandas as pd\n",
    "import glob\n",
    "import os\n",
    "import matplotlib.pyplot as plt\n",
    "import scipy.stats as stats\n",
    "from matplotlib import font_manager, rcParams\n",
    "import matplotlib\n",
    "import seaborn as sns\n",
    "import json\n",
    "from IPython.display import display, Markdown\n",
    "from mlxtend.preprocessing import TransactionEncoder\n",
    "from mlxtend.frequent_patterns import apriori, association_rules"
   ]
  },
  {
   "cell_type": "markdown",
   "id": "e1dbe90c",
   "metadata": {},
   "source": [
    "#### 1.2 屏蔽不必要的Warning"
   ]
  },
  {
   "cell_type": "code",
   "execution_count": 2,
   "id": "b81337d4",
   "metadata": {
    "execution": {
     "iopub.execute_input": "2025-04-15T09:27:23.806277Z",
     "iopub.status.busy": "2025-04-15T09:27:23.805771Z",
     "iopub.status.idle": "2025-04-15T09:27:23.809864Z",
     "shell.execute_reply": "2025-04-15T09:27:23.809258Z"
    }
   },
   "outputs": [],
   "source": [
    "# 屏蔽一些不必要的Warning\n",
    "import warnings\n",
    "warnings.filterwarnings(\"ignore\", category=UserWarning)\n",
    "matplotlib.set_loglevel(\"error\")"
   ]
  },
  {
   "cell_type": "markdown",
   "id": "55b624cb",
   "metadata": {},
   "source": [
    "所以服务器无法安装中文字体，所以这里屏蔽的主要是由于显示中文字体所出现的Warning"
   ]
  },
  {
   "cell_type": "markdown",
   "id": "64beafb8",
   "metadata": {},
   "source": [
    "#### 1.3 配置中文字体"
   ]
  },
  {
   "cell_type": "code",
   "execution_count": 3,
   "id": "c77268e6",
   "metadata": {
    "execution": {
     "iopub.execute_input": "2025-04-15T09:27:23.812953Z",
     "iopub.status.busy": "2025-04-15T09:27:23.812687Z",
     "iopub.status.idle": "2025-04-15T09:27:23.821163Z",
     "shell.execute_reply": "2025-04-15T09:27:23.820153Z"
    }
   },
   "outputs": [
    {
     "name": "stdout",
     "output_type": "stream",
     "text": [
      "✔️ 成功加载字体：SimHei\n"
     ]
    }
   ],
   "source": [
    "# 由于数据集中有中文字体,而所使用的服务器上面没有配置中文字体,所以这里设置一些中文字体的显示问题\n",
    "font_path = '/home/pengzhang/anaconda3/envs/DDPM-New/lib/python3.11/site-packages/matplotlib/mpl-data/fonts/ttf/simhei.ttf'\n",
    "my_font = font_manager.FontProperties(fname=font_path)\n",
    "font_name = my_font.get_name()\n",
    "print(f\"✔️ 成功加载字体：{font_name}\")\n",
    "rcParams['font.family'] = font_name"
   ]
  },
  {
   "cell_type": "markdown",
   "id": "05b23d6c",
   "metadata": {},
   "source": [
    "#### 1.4 查看数据集并对数据集进行了解"
   ]
  },
  {
   "cell_type": "code",
   "execution_count": 4,
   "id": "e30f9f1c",
   "metadata": {
    "execution": {
     "iopub.execute_input": "2025-04-15T09:27:23.825236Z",
     "iopub.status.busy": "2025-04-15T09:27:23.824611Z",
     "iopub.status.idle": "2025-04-15T09:27:23.830744Z",
     "shell.execute_reply": "2025-04-15T09:27:23.829991Z"
    }
   },
   "outputs": [
    {
     "name": "stdout",
     "output_type": "stream",
     "text": [
      "['/data7/pengzhang/Class/Data_Mining/Homework01_dataset/part-00000_sample.parquet']\n"
     ]
    }
   ],
   "source": [
    "# 查看当前文件夹下有哪些数据集以及数据集所处的路径\n",
    "# 获取data文件夹中所有parquet文件的路径\n",
    "parquet_files = ['/data7/pengzhang/Class/Data_Mining/Homework01_dataset/part-00000_sample.parquet']\n",
    "print(parquet_files)"
   ]
  },
  {
   "cell_type": "code",
   "execution_count": 5,
   "id": "2bc9bf4d",
   "metadata": {
    "execution": {
     "iopub.execute_input": "2025-04-15T09:27:23.833979Z",
     "iopub.status.busy": "2025-04-15T09:27:23.833611Z",
     "iopub.status.idle": "2025-04-15T09:31:54.109292Z",
     "shell.execute_reply": "2025-04-15T09:31:54.107971Z"
    }
   },
   "outputs": [
    {
     "name": "stdout",
     "output_type": "stream",
     "text": [
      "0     {\"avg_price\":9496,\"categories\":\"零食\",\"items\":[{\"id\":7265}],\"payment_method\":\"现金\",\"payment_status\":\"已支付\",\"purchase_date\":\"2023-07-30\"}\n",
      "1    {\"avg_price\":3014,\"categories\":\"手套\",\"items\":[{\"id\":5245}],\"payment_method\":\"信用卡\",\"payment_status\":\"已退款\",\"purchase_date\":\"2024-02-27\"}\n",
      "2    {\"avg_price\":8921,\"categories\":\"裙子\",\"items\":[{\"id\":4020}],\"payment_method\":\"信用卡\",\"payment_status\":\"已支付\",\"purchase_date\":\"2024-07-30\"}\n",
      "Name: purchase_history, dtype: object\n",
      "读取10G数据所用时间: 0.13 秒\n"
     ]
    }
   ],
   "source": [
    "import time\n",
    "start_time = time.time()\n",
    "\n",
    "# 读取并合并所有parquet文件\n",
    "df_list = [pd.read_parquet(file) for file in parquet_files]\n",
    "df = pd.concat(df_list, ignore_index=True)\n",
    "\n",
    "# 显示合并后的DataFrame信息,因为互评作业二主要分析purchase_history这一列的信息,所以此处单独显示这一列\n",
    "# print(df.head())\n",
    "pd.set_option('display.max_colwidth', None)  # 这一行代码主要是为了显示全部信息,不省略\n",
    "print(df.loc[:2, 'purchase_history']) \n",
    "\n",
    "end_time = time.time()\n",
    "print(f\"读取10G数据所用时间: {end_time - start_time:.2f} 秒\")\n"
   ]
  },
  {
   "cell_type": "code",
   "execution_count": 6,
   "id": "1d43533f",
   "metadata": {
    "execution": {
     "iopub.execute_input": "2025-04-15T09:31:54.127029Z",
     "iopub.status.busy": "2025-04-15T09:31:54.125999Z",
     "iopub.status.idle": "2025-04-15T09:31:54.132250Z",
     "shell.execute_reply": "2025-04-15T09:31:54.131195Z"
    }
   },
   "outputs": [
    {
     "name": "stdout",
     "output_type": "stream",
     "text": [
      "(100, 15)\n"
     ]
    }
   ],
   "source": [
    "print(df.shape)   # 数据集的大小"
   ]
  },
  {
   "cell_type": "markdown",
   "id": "8da17f35",
   "metadata": {},
   "source": [
    "可以看出10G的数据集总共有0.45亿例数据，每一例数据有15个属性"
   ]
  },
  {
   "cell_type": "markdown",
   "id": "98f334b3",
   "metadata": {},
   "source": [
    "### 2 数据预处理"
   ]
  },
  {
   "cell_type": "markdown",
   "id": "157667b7",
   "metadata": {},
   "source": [
    "##### 在互评作业1中，已经对数据的各种异常情况都做了详细的分析，所以在这里直接根据互评作业1中的数据异常分析结果，直接删除存在异常的数据即可，然后使用正常的数据进行后续的频繁模式挖掘"
   ]
  },
  {
   "cell_type": "code",
   "execution_count": 7,
   "id": "3628fb8a",
   "metadata": {
    "execution": {
     "iopub.execute_input": "2025-04-15T09:31:54.135088Z",
     "iopub.status.busy": "2025-04-15T09:31:54.134619Z",
     "iopub.status.idle": "2025-04-15T09:31:54.139405Z",
     "shell.execute_reply": "2025-04-15T09:31:54.138459Z"
    }
   },
   "outputs": [],
   "source": [
    "# 记录一下数据预处理之前数据集的大小\n",
    "before_preprocessing_dataset_size = df.shape[0]"
   ]
  },
  {
   "cell_type": "markdown",
   "id": "b14edcef",
   "metadata": {},
   "source": [
    "#### 2.1 数据类型转换"
   ]
  },
  {
   "cell_type": "code",
   "execution_count": 8,
   "id": "32e2bb09",
   "metadata": {
    "execution": {
     "iopub.execute_input": "2025-04-15T09:31:54.142398Z",
     "iopub.status.busy": "2025-04-15T09:31:54.141857Z",
     "iopub.status.idle": "2025-04-15T09:32:51.116542Z",
     "shell.execute_reply": "2025-04-15T09:32:51.115614Z"
    }
   },
   "outputs": [],
   "source": [
    "from datetime import datetime\n",
    "# 转换日期类型\n",
    "df['last_login'] = pd.to_datetime(df['last_login'])\n",
    "df['registration_date'] = pd.to_datetime(df['registration_date'])"
   ]
  },
  {
   "cell_type": "markdown",
   "id": "6a1ef4f6",
   "metadata": {},
   "source": [
    "将原始时间进行转换，方便后续处理。"
   ]
  },
  {
   "cell_type": "markdown",
   "id": "d39edfab",
   "metadata": {},
   "source": [
    "#### 2.2 异常数据处理（在互评作业1中已经详细分析, 所以这里直接删除异常数据即可）"
   ]
  },
  {
   "cell_type": "code",
   "execution_count": 9,
   "id": "9dd3dfc7",
   "metadata": {
    "execution": {
     "iopub.execute_input": "2025-04-15T09:49:33.898832Z",
     "iopub.status.busy": "2025-04-15T09:49:33.898624Z",
     "iopub.status.idle": "2025-04-15T09:51:38.711003Z",
     "shell.execute_reply": "2025-04-15T09:51:38.709592Z"
    }
   },
   "outputs": [
    {
     "name": "stdout",
     "output_type": "stream",
     "text": [
      "删除前数据的行数：100\n",
      "存在重复的phone_number总数:0\n",
      "删除后数据的行数：100\n",
      "运行时间：0.00 秒\n"
     ]
    }
   ],
   "source": [
    "import time\n",
    "start_time = time.time()\n",
    "\n",
    "# 打印删除前数据的行数\n",
    "print(f\"删除前数据的行数：{df.shape[0]}\")\n",
    "# 计算并打印存在重复的 phone_number 总数\n",
    "total_duplicate_ids = (df['phone_number'].value_counts() > 1).sum()\n",
    "print(f\"存在重复的phone_number总数:{total_duplicate_ids}\")\n",
    "# 删除 'phone_number' 列中重复的行，只保留第一次出现的\n",
    "df = df.drop_duplicates(subset='phone_number', keep='first')\n",
    "# 打印删除后数据的行数\n",
    "print(f\"删除后数据的行数：{df.shape[0]}\")\n",
    "\n",
    "end_time = time.time()\n",
    "print(f\"运行时间：{end_time - start_time:.2f} 秒\")"
   ]
  },
  {
   "cell_type": "markdown",
   "id": "3eac5551",
   "metadata": {},
   "source": [
    "说明存在重复的phone_number，共有26380例重复phone_number，属于数据异常，需要删除此类数据"
   ]
  },
  {
   "cell_type": "code",
   "execution_count": 10,
   "id": "99c0e7df",
   "metadata": {
    "execution": {
     "iopub.execute_input": "2025-04-15T09:54:43.926188Z",
     "iopub.status.busy": "2025-04-15T09:54:43.925968Z",
     "iopub.status.idle": "2025-04-15T09:54:43.931225Z",
     "shell.execute_reply": "2025-04-15T09:54:43.930544Z"
    }
   },
   "outputs": [
    {
     "name": "stdout",
     "output_type": "stream",
     "text": [
      "预处理前数据集总共有 100 行\n",
      "预处理后数据集总共有 100 行\n",
      "数据集总共减少 0 行\n"
     ]
    }
   ],
   "source": [
    "# 总结一下预处理后数据集的变化情况\n",
    "rows_before = before_preprocessing_dataset_size\n",
    "rows_after = df.shape[0]\n",
    "rows_removed = rows_before - rows_after\n",
    "# 输出优化后的信息\n",
    "print(f'预处理前数据集总共有 {rows_before} 行')\n",
    "print(f'预处理后数据集总共有 {rows_after} 行')\n",
    "print(f'数据集总共减少 {rows_removed} 行')"
   ]
  },
  {
   "cell_type": "markdown",
   "id": "2e20b737",
   "metadata": {},
   "source": [
    "### 3 数据加载"
   ]
  },
  {
   "cell_type": "markdown",
   "id": "97187ab6",
   "metadata": {},
   "source": [
    "#### 3.1 加载产品目录"
   ]
  },
  {
   "cell_type": "code",
   "execution_count": 11,
   "id": "72aaedfb",
   "metadata": {},
   "outputs": [],
   "source": [
    "with open('/data7/pengzhang/Class/Data_Mining/product_catalog.json', 'r', encoding='utf-8') as f:\n",
    "    catalog = json.load(f)"
   ]
  },
  {
   "cell_type": "markdown",
   "id": "0dcadb4f",
   "metadata": {},
   "source": [
    "创建完整分类映射"
   ]
  },
  {
   "cell_type": "markdown",
   "id": "c597be7d",
   "metadata": {},
   "source": [
    "这部分代码主要是按照“商品ID与类别”这个文件中的信息,将购物的细粒度类别进行聚类"
   ]
  },
  {
   "cell_type": "code",
   "execution_count": 12,
   "id": "ff6eeb37",
   "metadata": {},
   "outputs": [],
   "source": [
    "main_categories = {\n",
    "    '电子产品': ['智能手机','笔记本电脑','平板电脑','智能手表','耳机','音响','相机','摄像机','游戏机'],\n",
    "    '服装': ['上衣','裤子','裙子','内衣','鞋子','帽子','手套','围巾','外套'],\n",
    "    '食品': ['零食','饮料','调味品','米面','水产','肉类','蛋奶','水果','蔬菜'],\n",
    "    '家居': ['家具','床上用品','厨具','卫浴用品'],\n",
    "    '办公': ['文具','办公用品'],\n",
    "    '运动户外': ['健身器材','户外装备'],\n",
    "    '玩具': ['玩具','模型','益智玩具'],\n",
    "    '母婴': ['婴儿用品','儿童课外读物'],\n",
    "    '汽车用品': ['车载电子','汽车装饰'],\n",
    "    '其他': []\n",
    "}\n",
    "\n",
    "category_mapping = {}\n",
    "for product in catalog['products']:\n",
    "    for main_cat, sub_cats in main_categories.items():\n",
    "        if product['category'] in sub_cats:\n",
    "            category_mapping[product['id']] = {\n",
    "                'main_category': main_cat,\n",
    "                'sub_category': product['category'],\n",
    "                'price': product['price']\n",
    "            }\n",
    "            break\n",
    "    else:\n",
    "        category_mapping[product['id']] = {\n",
    "            'main_category': '其他',\n",
    "            'sub_category': product['category'],\n",
    "            'price': product['price']\n",
    "        }"
   ]
  },
  {
   "cell_type": "markdown",
   "id": "5a378183",
   "metadata": {},
   "source": [
    "#### 3.2 加载产品目录"
   ]
  },
  {
   "cell_type": "markdown",
   "id": "06308cb4",
   "metadata": {},
   "source": [
    "解析purchase_history"
   ]
  },
  {
   "cell_type": "markdown",
   "id": "8bf1fb4b",
   "metadata": {},
   "source": [
    "这段函数代码用于解析每行用户的购买历史。它从 `row['purchase_history']` 字符串中提取信息，构造一个包含用户ID、支付方式、支付状态、购买日期和商品详情的字典。对于商品列表中的每个商品，如果其ID在 `category_mapping` 中，就添加到交易记录中。若解析出错，会打印错误信息并返回 `None`。"
   ]
  },
  {
   "cell_type": "code",
   "execution_count": 13,
   "id": "cf84ad7d",
   "metadata": {},
   "outputs": [],
   "source": [
    "def parse_purchase_history(row):\n",
    "    try:\n",
    "        ph = json.loads(row['purchase_history'])\n",
    "        items = ph.get('items', [])\n",
    "        \n",
    "        transaction = {\n",
    "            'user_id': row['id'],\n",
    "            'payment_method': ph.get('payment_method'),\n",
    "            'payment_status': ph.get('payment_status'),\n",
    "            'purchase_date': pd.to_datetime(ph.get('purchase_date')),\n",
    "            'items': []\n",
    "        }\n",
    "        \n",
    "        for item in items:\n",
    "            item_id = item.get('id')\n",
    "            if item_id in category_mapping:\n",
    "                transaction['items'].append({\n",
    "                    'id': item_id,\n",
    "                    **category_mapping[item_id]\n",
    "                })\n",
    "        \n",
    "        return transaction\n",
    "    \n",
    "    except Exception as e:\n",
    "        print(f\"解析错误：{row['id']} - {str(e)}\")\n",
    "        return None"
   ]
  },
  {
   "cell_type": "markdown",
   "id": "e4a1087e",
   "metadata": {},
   "source": [
    "生成完整事务数据"
   ]
  },
  {
   "cell_type": "code",
   "execution_count": 14,
   "id": "a9fdd2bf",
   "metadata": {},
   "outputs": [],
   "source": [
    "transactions = pd.DataFrame([x for x in df.apply(parse_purchase_history, axis=1) if x is not None])\n",
    "exploded_df = transactions.explode('items').reset_index(drop=True)\n",
    "items_df = pd.json_normalize(exploded_df['items'])\n",
    "transactions_full = pd.concat([exploded_df.drop('items', axis=1), items_df], axis=1)\n",
    "transactions_full['is_high_value'] = transactions_full['price'] > 5000"
   ]
  },
  {
   "cell_type": "markdown",
   "id": "d296ee13",
   "metadata": {},
   "source": [
    "### 4. 核心分析结果"
   ]
  },
  {
   "cell_type": "markdown",
   "id": "ad41f5ea",
   "metadata": {},
   "source": [
    "#### 4.1 基础统计"
   ]
  },
  {
   "cell_type": "code",
   "execution_count": 15,
   "id": "9ca5df3f",
   "metadata": {},
   "outputs": [
    {
     "data": {
      "text/markdown": [
       "### 基础统计数据"
      ],
      "text/plain": [
       "<IPython.core.display.Markdown object>"
      ]
     },
     "metadata": {},
     "output_type": "display_data"
    },
    {
     "data": {
      "text/html": [
       "<div>\n",
       "<style scoped>\n",
       "    .dataframe tbody tr th:only-of-type {\n",
       "        vertical-align: middle;\n",
       "    }\n",
       "\n",
       "    .dataframe tbody tr th {\n",
       "        vertical-align: top;\n",
       "    }\n",
       "\n",
       "    .dataframe thead th {\n",
       "        text-align: right;\n",
       "    }\n",
       "</style>\n",
       "<table border=\"1\" class=\"dataframe\">\n",
       "  <thead>\n",
       "    <tr style=\"text-align: right;\">\n",
       "      <th></th>\n",
       "      <th>总用户数</th>\n",
       "      <th>总交易数</th>\n",
       "      <th>总商品数</th>\n",
       "      <th>平均客单价</th>\n",
       "      <th>最高单价</th>\n",
       "      <th>退款率</th>\n",
       "    </tr>\n",
       "  </thead>\n",
       "  <tbody>\n",
       "    <tr>\n",
       "      <th>0</th>\n",
       "      <td>100</td>\n",
       "      <td>100</td>\n",
       "      <td>277</td>\n",
       "      <td>4499.5129</td>\n",
       "      <td>18439.9</td>\n",
       "      <td>0.638989</td>\n",
       "    </tr>\n",
       "  </tbody>\n",
       "</table>\n",
       "</div>"
      ],
      "text/plain": [
       "   总用户数  总交易数  总商品数      平均客单价     最高单价       退款率\n",
       "0   100   100   277  4499.5129  18439.9  0.638989"
      ]
     },
     "metadata": {},
     "output_type": "display_data"
    }
   ],
   "source": [
    "display(Markdown(\"### 基础统计数据\"))\n",
    "display(pd.DataFrame({\n",
    "    '总用户数': [transactions_full['user_id'].nunique()],\n",
    "    '总交易数': [len(transactions)],\n",
    "    '总商品数': [len(transactions_full)],\n",
    "    '平均客单价': [transactions_full.groupby(['user_id','purchase_date'])['price'].sum().mean()],\n",
    "    '最高单价': [transactions_full['price'].max()],\n",
    "    '退款率': [len(transactions_full[transactions_full['payment_status'].isin(['已退款','部分退款'])])/len(transactions_full)]\n",
    "}))"
   ]
  },
  {
   "cell_type": "markdown",
   "id": "2d09848f",
   "metadata": {},
   "source": [
    "#### 4.2 商品关联规则分析"
   ]
  },
  {
   "cell_type": "markdown",
   "id": "dc76ce0d",
   "metadata": {},
   "source": [
    "生成事务数据"
   ]
  },
  {
   "cell_type": "code",
   "execution_count": 16,
   "id": "66af0d53",
   "metadata": {},
   "outputs": [],
   "source": [
    "basket = transactions_full.groupby(['user_id', 'purchase_date'])['main_category'].agg(list).reset_index()"
   ]
  },
  {
   "cell_type": "markdown",
   "id": "3f9491ea",
   "metadata": {},
   "source": [
    "关联规则计算"
   ]
  },
  {
   "cell_type": "code",
   "execution_count": 17,
   "id": "4b555ccc",
   "metadata": {},
   "outputs": [],
   "source": [
    "te = TransactionEncoder()\n",
    "te_ary = te.fit_transform(basket['main_category'])\n",
    "df_encoded = pd.DataFrame(te_ary, columns=te.columns_)\n",
    "\n",
    "frequent_itemsets = apriori(df_encoded, min_support=0.015, use_colnames=True)\n",
    "rules = association_rules(frequent_itemsets, metric=\"confidence\", min_threshold=0.4)"
   ]
  },
  {
   "cell_type": "markdown",
   "id": "c3dbcf5d",
   "metadata": {},
   "source": [
    "结果展示"
   ]
  },
  {
   "cell_type": "code",
   "execution_count": 18,
   "id": "851c6adf",
   "metadata": {},
   "outputs": [
    {
     "data": {
      "text/markdown": [
       "### 商品关联规则（TOP 10）"
      ],
      "text/plain": [
       "<IPython.core.display.Markdown object>"
      ]
     },
     "metadata": {},
     "output_type": "display_data"
    },
    {
     "data": {
      "text/html": [
       "<div>\n",
       "<style scoped>\n",
       "    .dataframe tbody tr th:only-of-type {\n",
       "        vertical-align: middle;\n",
       "    }\n",
       "\n",
       "    .dataframe tbody tr th {\n",
       "        vertical-align: top;\n",
       "    }\n",
       "\n",
       "    .dataframe thead th {\n",
       "        text-align: right;\n",
       "    }\n",
       "</style>\n",
       "<table border=\"1\" class=\"dataframe\">\n",
       "  <thead>\n",
       "    <tr style=\"text-align: right;\">\n",
       "      <th></th>\n",
       "      <th>antecedents</th>\n",
       "      <th>consequents</th>\n",
       "      <th>antecedent support</th>\n",
       "      <th>consequent support</th>\n",
       "      <th>support</th>\n",
       "      <th>confidence</th>\n",
       "      <th>lift</th>\n",
       "      <th>representativity</th>\n",
       "      <th>leverage</th>\n",
       "      <th>conviction</th>\n",
       "      <th>zhangs_metric</th>\n",
       "      <th>jaccard</th>\n",
       "      <th>certainty</th>\n",
       "      <th>kulczynski</th>\n",
       "    </tr>\n",
       "  </thead>\n",
       "  <tbody>\n",
       "    <tr>\n",
       "      <th>33</th>\n",
       "      <td>(食品, 服装, 运动户外)</td>\n",
       "      <td>(母婴)</td>\n",
       "      <td>0.02</td>\n",
       "      <td>0.12</td>\n",
       "      <td>0.02</td>\n",
       "      <td>1.000000</td>\n",
       "      <td>8.333333</td>\n",
       "      <td>1.0</td>\n",
       "      <td>0.0176</td>\n",
       "      <td>inf</td>\n",
       "      <td>0.897959</td>\n",
       "      <td>0.166667</td>\n",
       "      <td>1.000000</td>\n",
       "      <td>0.583333</td>\n",
       "    </tr>\n",
       "    <tr>\n",
       "      <th>36</th>\n",
       "      <td>(运动户外, 母婴)</td>\n",
       "      <td>(食品, 服装)</td>\n",
       "      <td>0.02</td>\n",
       "      <td>0.18</td>\n",
       "      <td>0.02</td>\n",
       "      <td>1.000000</td>\n",
       "      <td>5.555556</td>\n",
       "      <td>1.0</td>\n",
       "      <td>0.0164</td>\n",
       "      <td>inf</td>\n",
       "      <td>0.836735</td>\n",
       "      <td>0.111111</td>\n",
       "      <td>1.000000</td>\n",
       "      <td>0.555556</td>\n",
       "    </tr>\n",
       "    <tr>\n",
       "      <th>24</th>\n",
       "      <td>(食品, 家居, 服装)</td>\n",
       "      <td>(办公)</td>\n",
       "      <td>0.04</td>\n",
       "      <td>0.14</td>\n",
       "      <td>0.02</td>\n",
       "      <td>0.500000</td>\n",
       "      <td>3.571429</td>\n",
       "      <td>1.0</td>\n",
       "      <td>0.0144</td>\n",
       "      <td>1.720000</td>\n",
       "      <td>0.750000</td>\n",
       "      <td>0.125000</td>\n",
       "      <td>0.418605</td>\n",
       "      <td>0.321429</td>\n",
       "    </tr>\n",
       "    <tr>\n",
       "      <th>27</th>\n",
       "      <td>(家居, 服装, 办公)</td>\n",
       "      <td>(食品)</td>\n",
       "      <td>0.02</td>\n",
       "      <td>0.43</td>\n",
       "      <td>0.02</td>\n",
       "      <td>1.000000</td>\n",
       "      <td>2.325581</td>\n",
       "      <td>1.0</td>\n",
       "      <td>0.0114</td>\n",
       "      <td>inf</td>\n",
       "      <td>0.581633</td>\n",
       "      <td>0.046512</td>\n",
       "      <td>1.000000</td>\n",
       "      <td>0.523256</td>\n",
       "    </tr>\n",
       "    <tr>\n",
       "      <th>35</th>\n",
       "      <td>(服装, 母婴, 运动户外)</td>\n",
       "      <td>(食品)</td>\n",
       "      <td>0.02</td>\n",
       "      <td>0.43</td>\n",
       "      <td>0.02</td>\n",
       "      <td>1.000000</td>\n",
       "      <td>2.325581</td>\n",
       "      <td>1.0</td>\n",
       "      <td>0.0114</td>\n",
       "      <td>inf</td>\n",
       "      <td>0.581633</td>\n",
       "      <td>0.046512</td>\n",
       "      <td>1.000000</td>\n",
       "      <td>0.523256</td>\n",
       "    </tr>\n",
       "    <tr>\n",
       "      <th>14</th>\n",
       "      <td>(家居, 运动户外)</td>\n",
       "      <td>(食品)</td>\n",
       "      <td>0.04</td>\n",
       "      <td>0.43</td>\n",
       "      <td>0.04</td>\n",
       "      <td>1.000000</td>\n",
       "      <td>2.325581</td>\n",
       "      <td>1.0</td>\n",
       "      <td>0.0228</td>\n",
       "      <td>inf</td>\n",
       "      <td>0.593750</td>\n",
       "      <td>0.093023</td>\n",
       "      <td>1.000000</td>\n",
       "      <td>0.546512</td>\n",
       "    </tr>\n",
       "    <tr>\n",
       "      <th>20</th>\n",
       "      <td>(运动户外, 母婴)</td>\n",
       "      <td>(食品)</td>\n",
       "      <td>0.02</td>\n",
       "      <td>0.43</td>\n",
       "      <td>0.02</td>\n",
       "      <td>1.000000</td>\n",
       "      <td>2.325581</td>\n",
       "      <td>1.0</td>\n",
       "      <td>0.0114</td>\n",
       "      <td>inf</td>\n",
       "      <td>0.581633</td>\n",
       "      <td>0.046512</td>\n",
       "      <td>1.000000</td>\n",
       "      <td>0.523256</td>\n",
       "    </tr>\n",
       "    <tr>\n",
       "      <th>13</th>\n",
       "      <td>(食品, 运动户外)</td>\n",
       "      <td>(家居)</td>\n",
       "      <td>0.07</td>\n",
       "      <td>0.27</td>\n",
       "      <td>0.04</td>\n",
       "      <td>0.571429</td>\n",
       "      <td>2.116402</td>\n",
       "      <td>1.0</td>\n",
       "      <td>0.0211</td>\n",
       "      <td>1.703333</td>\n",
       "      <td>0.567204</td>\n",
       "      <td>0.133333</td>\n",
       "      <td>0.412916</td>\n",
       "      <td>0.359788</td>\n",
       "    </tr>\n",
       "    <tr>\n",
       "      <th>25</th>\n",
       "      <td>(食品, 家居, 办公)</td>\n",
       "      <td>(服装)</td>\n",
       "      <td>0.02</td>\n",
       "      <td>0.48</td>\n",
       "      <td>0.02</td>\n",
       "      <td>1.000000</td>\n",
       "      <td>2.083333</td>\n",
       "      <td>1.0</td>\n",
       "      <td>0.0104</td>\n",
       "      <td>inf</td>\n",
       "      <td>0.530612</td>\n",
       "      <td>0.041667</td>\n",
       "      <td>1.000000</td>\n",
       "      <td>0.520833</td>\n",
       "    </tr>\n",
       "    <tr>\n",
       "      <th>15</th>\n",
       "      <td>(运动户外, 母婴)</td>\n",
       "      <td>(服装)</td>\n",
       "      <td>0.02</td>\n",
       "      <td>0.48</td>\n",
       "      <td>0.02</td>\n",
       "      <td>1.000000</td>\n",
       "      <td>2.083333</td>\n",
       "      <td>1.0</td>\n",
       "      <td>0.0104</td>\n",
       "      <td>inf</td>\n",
       "      <td>0.530612</td>\n",
       "      <td>0.041667</td>\n",
       "      <td>1.000000</td>\n",
       "      <td>0.520833</td>\n",
       "    </tr>\n",
       "  </tbody>\n",
       "</table>\n",
       "</div>"
      ],
      "text/plain": [
       "       antecedents consequents  antecedent support  consequent support  \\\n",
       "33  (食品, 服装, 运动户外)        (母婴)                0.02                0.12   \n",
       "36      (运动户外, 母婴)    (食品, 服装)                0.02                0.18   \n",
       "24    (食品, 家居, 服装)        (办公)                0.04                0.14   \n",
       "27    (家居, 服装, 办公)        (食品)                0.02                0.43   \n",
       "35  (服装, 母婴, 运动户外)        (食品)                0.02                0.43   \n",
       "14      (家居, 运动户外)        (食品)                0.04                0.43   \n",
       "20      (运动户外, 母婴)        (食品)                0.02                0.43   \n",
       "13      (食品, 运动户外)        (家居)                0.07                0.27   \n",
       "25    (食品, 家居, 办公)        (服装)                0.02                0.48   \n",
       "15      (运动户外, 母婴)        (服装)                0.02                0.48   \n",
       "\n",
       "    support  confidence      lift  representativity  leverage  conviction  \\\n",
       "33     0.02    1.000000  8.333333               1.0    0.0176         inf   \n",
       "36     0.02    1.000000  5.555556               1.0    0.0164         inf   \n",
       "24     0.02    0.500000  3.571429               1.0    0.0144    1.720000   \n",
       "27     0.02    1.000000  2.325581               1.0    0.0114         inf   \n",
       "35     0.02    1.000000  2.325581               1.0    0.0114         inf   \n",
       "14     0.04    1.000000  2.325581               1.0    0.0228         inf   \n",
       "20     0.02    1.000000  2.325581               1.0    0.0114         inf   \n",
       "13     0.04    0.571429  2.116402               1.0    0.0211    1.703333   \n",
       "25     0.02    1.000000  2.083333               1.0    0.0104         inf   \n",
       "15     0.02    1.000000  2.083333               1.0    0.0104         inf   \n",
       "\n",
       "    zhangs_metric   jaccard  certainty  kulczynski  \n",
       "33       0.897959  0.166667   1.000000    0.583333  \n",
       "36       0.836735  0.111111   1.000000    0.555556  \n",
       "24       0.750000  0.125000   0.418605    0.321429  \n",
       "27       0.581633  0.046512   1.000000    0.523256  \n",
       "35       0.581633  0.046512   1.000000    0.523256  \n",
       "14       0.593750  0.093023   1.000000    0.546512  \n",
       "20       0.581633  0.046512   1.000000    0.523256  \n",
       "13       0.567204  0.133333   0.412916    0.359788  \n",
       "25       0.530612  0.041667   1.000000    0.520833  \n",
       "15       0.530612  0.041667   1.000000    0.520833  "
      ]
     },
     "metadata": {},
     "output_type": "display_data"
    },
    {
     "data": {
      "image/png": "[encoded data removed]",
      "text/plain": [
       "<Figure size 1200x800 with 1 Axes>"
      ]
     },
     "metadata": {},
     "output_type": "display_data"
    }
   ],
   "source": [
    "display(Markdown(\"### 商品关联规则（TOP 10）\"))\n",
    "display(rules.sort_values('lift', ascending=False).head(10))\n",
    "\n",
    "plt.figure(figsize=(12,8))\n",
    "sns.scatterplot(x='support', y='confidence', size='lift', hue='lift', \n",
    "                data=rules, palette='viridis', sizes=(20, 200))\n",
    "plt.title('关联规则分布', fontproperties=my_font)\n",
    "plt.xlabel('支持度', fontproperties=my_font)\n",
    "plt.ylabel('置信度', fontproperties=my_font)\n",
    "plt.show()"
   ]
  },
  {
   "cell_type": "markdown",
   "id": "a7475b4b",
   "metadata": {},
   "source": [
    "#### 4.3 支付方式分析"
   ]
  },
  {
   "cell_type": "markdown",
   "id": "55e71862",
   "metadata": {},
   "source": [
    "支付方式分布"
   ]
  },
  {
   "cell_type": "code",
   "execution_count": 19,
   "id": "29d85c4f",
   "metadata": {},
   "outputs": [
    {
     "data": {
      "image/png": "[encoded data removed]",
      "text/plain": [
       "<Figure size 1000x600 with 1 Axes>"
      ]
     },
     "metadata": {},
     "output_type": "display_data"
    }
   ],
   "source": [
    "payment_method_mapping = {'现金': 'cash', '信用卡': 'credit_card', '微信支付': 'wechat_pay', '储蓄卡': 'debit_card', '银联': 'unionpay', '云闪付': 'cloud_quickpass', '支付宝': 'alipay'}\n",
    "\n",
    "payment_dist = transactions_full['payment_method'].value_counts(normalize=True)\n",
    "payment_dist = payment_dist.rename(index=payment_method_mapping)\n",
    "plt.figure(figsize=(10, 6))\n",
    "payment_dist.plot(kind='bar', color='teal')\n",
    "plt.title('支付方式分布', fontproperties=my_font)\n",
    "plt.ylabel('比例', fontproperties=my_font)\n",
    "plt.xticks(rotation=45)\n",
    "plt.show()"
   ]
  },
  {
   "cell_type": "markdown",
   "id": "05382e79",
   "metadata": {},
   "source": [
    "高价值商品支付方式"
   ]
  },
  {
   "cell_type": "code",
   "execution_count": 20,
   "id": "8c9305ed",
   "metadata": {},
   "outputs": [
    {
     "data": {
      "text/markdown": [
       "### 高价值商品支付方式"
      ],
      "text/plain": [
       "<IPython.core.display.Markdown object>"
      ]
     },
     "metadata": {},
     "output_type": "display_data"
    },
    {
     "data": {
      "text/html": [
       "<div>\n",
       "<style scoped>\n",
       "    .dataframe tbody tr th:only-of-type {\n",
       "        vertical-align: middle;\n",
       "    }\n",
       "\n",
       "    .dataframe tbody tr th {\n",
       "        vertical-align: top;\n",
       "    }\n",
       "\n",
       "    .dataframe thead th {\n",
       "        text-align: right;\n",
       "    }\n",
       "</style>\n",
       "<table border=\"1\" class=\"dataframe\">\n",
       "  <thead>\n",
       "    <tr style=\"text-align: right;\">\n",
       "      <th></th>\n",
       "      <th>占比</th>\n",
       "    </tr>\n",
       "    <tr>\n",
       "      <th>payment_method</th>\n",
       "      <th></th>\n",
       "    </tr>\n",
       "  </thead>\n",
       "  <tbody>\n",
       "    <tr>\n",
       "      <th>现金</th>\n",
       "      <td>0.250000</td>\n",
       "    </tr>\n",
       "    <tr>\n",
       "      <th>银联</th>\n",
       "      <td>0.208333</td>\n",
       "    </tr>\n",
       "    <tr>\n",
       "      <th>云闪付</th>\n",
       "      <td>0.208333</td>\n",
       "    </tr>\n",
       "    <tr>\n",
       "      <th>支付宝</th>\n",
       "      <td>0.125000</td>\n",
       "    </tr>\n",
       "    <tr>\n",
       "      <th>微信支付</th>\n",
       "      <td>0.083333</td>\n",
       "    </tr>\n",
       "    <tr>\n",
       "      <th>信用卡</th>\n",
       "      <td>0.083333</td>\n",
       "    </tr>\n",
       "    <tr>\n",
       "      <th>储蓄卡</th>\n",
       "      <td>0.041667</td>\n",
       "    </tr>\n",
       "  </tbody>\n",
       "</table>\n",
       "</div>"
      ],
      "text/plain": [
       "                      占比\n",
       "payment_method          \n",
       "现金              0.250000\n",
       "银联              0.208333\n",
       "云闪付             0.208333\n",
       "支付宝             0.125000\n",
       "微信支付            0.083333\n",
       "信用卡             0.083333\n",
       "储蓄卡             0.041667"
      ]
     },
     "metadata": {},
     "output_type": "display_data"
    }
   ],
   "source": [
    "high_value_payment = transactions_full[transactions_full['is_high_value']]['payment_method'].value_counts(normalize=True)\n",
    "display(Markdown(\"### 高价值商品支付方式\"))\n",
    "display(high_value_payment.to_frame('占比'))"
   ]
  },
  {
   "cell_type": "markdown",
   "id": "4d52cb7f",
   "metadata": {},
   "source": [
    "#### 4.4 时间序列分析"
   ]
  },
  {
   "cell_type": "markdown",
   "id": "18627c04",
   "metadata": {},
   "source": [
    "月度趋势"
   ]
  },
  {
   "cell_type": "code",
   "execution_count": 24,
   "id": "6d246a6d",
   "metadata": {},
   "outputs": [
    {
     "name": "stderr",
     "output_type": "stream",
     "text": [
      "/tmp/ipykernel_39727/3800139039.py:13: FutureWarning: 'M' is deprecated and will be removed in a future version, please use 'ME' instead.\n",
      "  monthly_trend = transactions_full.set_index('purchase_date').resample('M')['main_category'].value_counts().unstack().fillna(0)\n"
     ]
    },
    {
     "data": {
      "text/plain": [
       "<Figure size 1400x800 with 0 Axes>"
      ]
     },
     "metadata": {},
     "output_type": "display_data"
    },
    {
     "data": {
      "image/png": "[encoded data removed]",
      "text/plain": [
       "<Figure size 640x480 with 1 Axes>"
      ]
     },
     "metadata": {},
     "output_type": "display_data"
    }
   ],
   "source": [
    "# 中文类别到英文类别的映射\n",
    "main_categories_mapping = {\n",
    "    '电子产品': 'Electronics',\n",
    "    '服装': 'Clothing',\n",
    "    '食品': 'Food',\n",
    "    '家居': 'Home',\n",
    "    '办公': 'Office Supplies',\n",
    "    '运动户外': 'Sports & Outdoors',\n",
    "    '玩具': 'Toys',\n",
    "    '母婴': 'Mother & Baby',\n",
    "    '汽车用品': 'Automotive Supplies'\n",
    "}\n",
    "monthly_trend = transactions_full.set_index('purchase_date').resample('M')['main_category'].value_counts().unstack().fillna(0)\n",
    "monthly_trend.rename(columns=main_categories_mapping, inplace=True)\n",
    "plt.figure(figsize=(14,8))\n",
    "monthly_trend.plot(kind='area', stacked=True, alpha=0.7)\n",
    "plt.title('月度商品类别趋势', fontproperties=my_font)\n",
    "plt.xlabel('日期', fontproperties=my_font)\n",
    "plt.ylabel('交易量', fontproperties=my_font)\n",
    "plt.legend(bbox_to_anchor=(1.05, 1), loc='upper left')\n",
    "plt.show()"
   ]
  },
  {
   "cell_type": "markdown",
   "id": "f06f8e87",
   "metadata": {},
   "source": [
    "#### 4.5 退款分析"
   ]
  },
  {
   "cell_type": "code",
   "execution_count": 25,
   "id": "0d567573",
   "metadata": {},
   "outputs": [],
   "source": [
    "refund_trans = transactions_full[transactions_full['payment_status'].isin(['已退款','部分退款'])]"
   ]
  },
  {
   "cell_type": "markdown",
   "id": "bb6c1067",
   "metadata": {},
   "source": [
    "退款商品关联"
   ]
  },
  {
   "cell_type": "code",
   "execution_count": 26,
   "id": "0a3c51e0",
   "metadata": {},
   "outputs": [
    {
     "data": {
      "text/markdown": [
       "### 退款关联规则（TOP 5）"
      ],
      "text/plain": [
       "<IPython.core.display.Markdown object>"
      ]
     },
     "metadata": {},
     "output_type": "display_data"
    },
    {
     "data": {
      "text/html": [
       "<div>\n",
       "<style scoped>\n",
       "    .dataframe tbody tr th:only-of-type {\n",
       "        vertical-align: middle;\n",
       "    }\n",
       "\n",
       "    .dataframe tbody tr th {\n",
       "        vertical-align: top;\n",
       "    }\n",
       "\n",
       "    .dataframe thead th {\n",
       "        text-align: right;\n",
       "    }\n",
       "</style>\n",
       "<table border=\"1\" class=\"dataframe\">\n",
       "  <thead>\n",
       "    <tr style=\"text-align: right;\">\n",
       "      <th></th>\n",
       "      <th>antecedents</th>\n",
       "      <th>consequents</th>\n",
       "      <th>antecedent support</th>\n",
       "      <th>consequent support</th>\n",
       "      <th>support</th>\n",
       "      <th>confidence</th>\n",
       "      <th>lift</th>\n",
       "      <th>representativity</th>\n",
       "      <th>leverage</th>\n",
       "      <th>conviction</th>\n",
       "      <th>zhangs_metric</th>\n",
       "      <th>jaccard</th>\n",
       "      <th>certainty</th>\n",
       "      <th>kulczynski</th>\n",
       "    </tr>\n",
       "  </thead>\n",
       "  <tbody>\n",
       "    <tr>\n",
       "      <th>170</th>\n",
       "      <td>(食品, 母婴)</td>\n",
       "      <td>(家居, 服装, 运动户外)</td>\n",
       "      <td>0.032787</td>\n",
       "      <td>0.016393</td>\n",
       "      <td>0.016393</td>\n",
       "      <td>0.5</td>\n",
       "      <td>30.500000</td>\n",
       "      <td>1.0</td>\n",
       "      <td>0.015856</td>\n",
       "      <td>1.967213</td>\n",
       "      <td>1.000000</td>\n",
       "      <td>0.500000</td>\n",
       "      <td>0.491667</td>\n",
       "      <td>0.750000</td>\n",
       "    </tr>\n",
       "    <tr>\n",
       "      <th>166</th>\n",
       "      <td>(家居, 服装, 运动户外)</td>\n",
       "      <td>(食品, 母婴)</td>\n",
       "      <td>0.016393</td>\n",
       "      <td>0.032787</td>\n",
       "      <td>0.016393</td>\n",
       "      <td>1.0</td>\n",
       "      <td>30.500000</td>\n",
       "      <td>1.0</td>\n",
       "      <td>0.015856</td>\n",
       "      <td>inf</td>\n",
       "      <td>0.983333</td>\n",
       "      <td>0.500000</td>\n",
       "      <td>1.000000</td>\n",
       "      <td>0.750000</td>\n",
       "    </tr>\n",
       "    <tr>\n",
       "      <th>163</th>\n",
       "      <td>(食品, 服装, 运动户外)</td>\n",
       "      <td>(家居, 母婴)</td>\n",
       "      <td>0.016393</td>\n",
       "      <td>0.049180</td>\n",
       "      <td>0.016393</td>\n",
       "      <td>1.0</td>\n",
       "      <td>20.333333</td>\n",
       "      <td>1.0</td>\n",
       "      <td>0.015587</td>\n",
       "      <td>inf</td>\n",
       "      <td>0.966667</td>\n",
       "      <td>0.333333</td>\n",
       "      <td>1.000000</td>\n",
       "      <td>0.666667</td>\n",
       "    </tr>\n",
       "    <tr>\n",
       "      <th>162</th>\n",
       "      <td>(食品, 服装, 母婴)</td>\n",
       "      <td>(家居, 运动户外)</td>\n",
       "      <td>0.016393</td>\n",
       "      <td>0.049180</td>\n",
       "      <td>0.016393</td>\n",
       "      <td>1.0</td>\n",
       "      <td>20.333333</td>\n",
       "      <td>1.0</td>\n",
       "      <td>0.015587</td>\n",
       "      <td>inf</td>\n",
       "      <td>0.966667</td>\n",
       "      <td>0.333333</td>\n",
       "      <td>1.000000</td>\n",
       "      <td>0.666667</td>\n",
       "    </tr>\n",
       "    <tr>\n",
       "      <th>171</th>\n",
       "      <td>(运动户外, 母婴)</td>\n",
       "      <td>(食品, 家居, 服装)</td>\n",
       "      <td>0.016393</td>\n",
       "      <td>0.065574</td>\n",
       "      <td>0.016393</td>\n",
       "      <td>1.0</td>\n",
       "      <td>15.250000</td>\n",
       "      <td>1.0</td>\n",
       "      <td>0.015318</td>\n",
       "      <td>inf</td>\n",
       "      <td>0.950000</td>\n",
       "      <td>0.250000</td>\n",
       "      <td>1.000000</td>\n",
       "      <td>0.625000</td>\n",
       "    </tr>\n",
       "  </tbody>\n",
       "</table>\n",
       "</div>"
      ],
      "text/plain": [
       "        antecedents     consequents  antecedent support  consequent support  \\\n",
       "170        (食品, 母婴)  (家居, 服装, 运动户外)            0.032787            0.016393   \n",
       "166  (家居, 服装, 运动户外)        (食品, 母婴)            0.016393            0.032787   \n",
       "163  (食品, 服装, 运动户外)        (家居, 母婴)            0.016393            0.049180   \n",
       "162    (食品, 服装, 母婴)      (家居, 运动户外)            0.016393            0.049180   \n",
       "171      (运动户外, 母婴)    (食品, 家居, 服装)            0.016393            0.065574   \n",
       "\n",
       "      support  confidence       lift  representativity  leverage  conviction  \\\n",
       "170  0.016393         0.5  30.500000               1.0  0.015856    1.967213   \n",
       "166  0.016393         1.0  30.500000               1.0  0.015856         inf   \n",
       "163  0.016393         1.0  20.333333               1.0  0.015587         inf   \n",
       "162  0.016393         1.0  20.333333               1.0  0.015587         inf   \n",
       "171  0.016393         1.0  15.250000               1.0  0.015318         inf   \n",
       "\n",
       "     zhangs_metric   jaccard  certainty  kulczynski  \n",
       "170       1.000000  0.500000   0.491667    0.750000  \n",
       "166       0.983333  0.500000   1.000000    0.750000  \n",
       "163       0.966667  0.333333   1.000000    0.666667  \n",
       "162       0.966667  0.333333   1.000000    0.666667  \n",
       "171       0.950000  0.250000   1.000000    0.625000  "
      ]
     },
     "metadata": {},
     "output_type": "display_data"
    }
   ],
   "source": [
    "refund_basket = refund_trans.groupby(['user_id','purchase_date'])['main_category'].agg(list).reset_index()\n",
    "te_refund = TransactionEncoder()\n",
    "te_ary_refund = te_refund.fit_transform(refund_basket['main_category'])\n",
    "df_refund_encoded = pd.DataFrame(te_ary_refund, columns=te_refund.columns_)\n",
    "\n",
    "refund_itemsets = apriori(df_refund_encoded, min_support=0.005, use_colnames=True)\n",
    "refund_rules = association_rules(refund_itemsets, metric=\"confidence\", min_threshold=0.4)\n",
    "\n",
    "display(Markdown(\"### 退款关联规则（TOP 5）\"))\n",
    "display(refund_rules.sort_values('lift', ascending=False).head(5))"
   ]
  },
  {
   "cell_type": "markdown",
   "id": "7ddd2bca",
   "metadata": {},
   "source": [
    "### 5. 最终分析报告"
   ]
  },
  {
   "cell_type": "code",
   "execution_count": null,
   "id": "72b4549d",
   "metadata": {},
   "outputs": [],
   "source": [
    "print(\"rules的大小是：\")\n",
    "print(len(rules))"
   ]
  },
  {
   "cell_type": "code",
   "execution_count": 27,
   "id": "f59083f4",
   "metadata": {},
   "outputs": [
    {
     "data": {
      "text/markdown": [
       "\n",
       "### 综合分析报告\n",
       "\n",
       "**商品关联规则**\n",
       "- 发现38条有效关联规则\n",
       "- 最强关联：frozenset({'办公'}) → frozenset({'电子产品'}) (置信度：50.0%)\n",
       "- 电子产品相关规则占比：15.8%\n",
       "\n",
       "**支付特征**\n",
       "- 主要支付方式：cash (22.0%)\n",
       "- 高价值商品首选支付：现金 (25.0%)\n",
       "\n",
       "**时间趋势**\n",
       "- 交易量最高月份：2022-01\n",
       "- 增长最快品类：Office Supplies\n",
       "\n",
       "**退款分析**\n",
       "- 总体退款率：63.9%\n",
       "- 最高风险组合：frozenset({'办公'}) + frozenset({'服装'}) (提升度：1.3)\n"
      ],
      "text/plain": [
       "<IPython.core.display.Markdown object>"
      ]
     },
     "metadata": {},
     "output_type": "display_data"
    }
   ],
   "source": [
    "report = f\"\"\"\n",
    "### 综合分析报告\n",
    "\n",
    "**商品关联规则**\n",
    "- 发现{len(rules)}条有效关联规则\n",
    "- 最强关联：{rules.iloc[0]['antecedents']} → {rules.iloc[0]['consequents']} (置信度：{rules.iloc[0]['confidence']:.1%})\n",
    "- 电子产品相关规则占比：{len(rules[rules['antecedents'].apply(lambda x: '电子产品' in x)])/len(rules):.1%}\n",
    "\n",
    "**支付特征**\n",
    "- 主要支付方式：{payment_dist.index[0]} ({payment_dist.iloc[0]:.1%})\n",
    "- 高价值商品首选支付：{high_value_payment.index[0]} ({high_value_payment.iloc[0]:.1%})\n",
    "\n",
    "**时间趋势**\n",
    "- 交易量最高月份：{monthly_trend.sum(axis=1).idxmax().strftime('%Y-%m')}\n",
    "- 增长最快品类：{monthly_trend.pct_change().mean().idxmax()}\n",
    "\n",
    "**退款分析**\n",
    "- 总体退款率：{len(refund_trans)/len(transactions_full):.1%}\n",
    "- 最高风险组合：{refund_rules.iloc[0]['antecedents']} + {refund_rules.iloc[0]['consequents']} (提升度：{refund_rules.iloc[0]['lift']:.1f})\n",
    "\"\"\"\n",
    "\n",
    "display(Markdown(report))"
   ]
  }
 ],
 "metadata": {
  "kernelspec": {
   "display_name": "Python 3 (ipykernel)",
   "language": "python",
   "name": "python3"
  },
  "language_info": {
   "codemirror_mode": {
    "name": "ipython",
    "version": 3
   },
   "file_extension": ".py",
   "mimetype": "text/x-python",
   "name": "python",
   "nbconvert_exporter": "python",
   "pygments_lexer": "ipython3",
   "version": "3.11.10"
  }
 },
 "nbformat": 4,
 "nbformat_minor": 5
}
